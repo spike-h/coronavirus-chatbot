{
  "nbformat": 4,
  "nbformat_minor": 0,
  "metadata": {
    "colab": {
      "provenance": []
    },
    "kernelspec": {
      "name": "python3",
      "display_name": "Python 3"
    }
  },
  "cells": [
    {
      "cell_type": "code",
      "metadata": {
        "id": "r13TM2x683jQ"
      },
      "source": [
        "import re\n",
        "from bs4 import BeautifulSoup\n",
        "import requests"
      ],
      "execution_count": null,
      "outputs": []
    },
    {
      "cell_type": "code",
      "metadata": {
        "id": "tQ12V3W1XTez"
      },
      "source": [
        "#Allows notebook to alter spreadsheet with all faq data\n",
        "from google.colab import auth\n",
        "auth.authenticate_user()\n",
        "import gspread\n",
        "from oauth2client.client import GoogleCredentials\n",
        "gc = gspread.authorize(GoogleCredentials.get_application_default())"
      ],
      "execution_count": null,
      "outputs": []
    },
    {
      "cell_type": "code",
      "metadata": {
        "id": "04-_XpFCYFWM"
      },
      "source": [
        "#Load spreadsheet and import common functions\n",
        "import pandas as pd\n",
        "from gspread_dataframe import set_with_dataframe #used to write dataframe into sheet\n",
        "spreadsheet = gc.open_by_url(\"https://docs.google.com/spreadsheets/d/17HDZ1ftGby51BMFed7BRIWHQkxw_Rd3XY75quW2b0LU/edit#gid=498415664\")"
      ],
      "execution_count": null,
      "outputs": []
    },
    {
      "cell_type": "code",
      "metadata": {
        "id": "OlFjEVcM_zIq"
      },
      "source": [
        "FDA = spreadsheet.worksheet('FDA')"
      ],
      "execution_count": null,
      "outputs": []
    },
    {
      "cell_type": "code",
      "metadata": {
        "id": "JnSqizNnAiBn"
      },
      "source": [
        "page = requests.get('https://faq.coronavirus.gov/spread-transmission/#how-does-the-virus-spread')\n",
        "soup = BeautifulSoup(page.content, 'html.parser')"
      ],
      "execution_count": null,
      "outputs": []
    },
    {
      "cell_type": "code",
      "metadata": {
        "id": "o0ALiWq4BNqW",
        "outputId": "f8c0bd35-748b-4864-91e6-e12faf50220e",
        "colab": {
          "base_uri": "https://localhost:8080/",
          "height": 1000
        }
      },
      "source": [
        "questions = soup.find_all('button',{'class':'usa-accordion__button'})\n",
        "print(len(questions))\n",
        "for question in questions:\n",
        "  print(question.getText())"
      ],
      "execution_count": null,
      "outputs": [
        {
          "output_type": "stream",
          "text": [
            "47\n",
            "\n",
            "    How does the virus spread?\n",
            "\n",
            "\n",
            "    Can someone who has had COVID-19 spread the illness to others?\n",
            "\n",
            "\n",
            "    What is community spread?\n",
            "\n",
            "\n",
            "    What is community mitigation?\n",
            "\n",
            "\n",
            "    What are community mitigation actions for COVID-19?\n",
            "\n",
            "\n",
            "    What should I do if I have had close contact with someone who has COVID-19?\n",
            "\n",
            "\n",
            "    What if I have been around someone who was identified as a close contact?\n",
            "\n",
            "\n",
            "    I was around someone who has COVID-19, and my COVID-19 test came back negative. Do I still need to quarantine for 14 days after I was last exposed?\n",
            "\n",
            "\n",
            "    I was around someone who has COVID-19, but I feel fine. Why should I stay at home?\n",
            "\n",
            "\n",
            "    If I am a close contact, will I be tested for COVID-19?\n",
            "\n",
            "\n",
            "    When can I be around others after I had or likely had COVID-19?\n",
            "\n",
            "\n",
            "    What should I do if I've been exposed to COVID-19, but do not yet know if I've been infected?\n",
            "\n",
            "\n",
            "    What is contact tracing?\n",
            "\n",
            "\n",
            "    What will happen during contact tracing if I am diagnosed with COVID-19?\n",
            "\n",
            "\n",
            "    Who is considered a close contact of someone with COVID-19?\n",
            "\n",
            "\n",
            "    Am I considered a close contact if I was wearing a mask?\n",
            "\n",
            "\n",
            "    If I participate in contact tracing for COVID-19 using a digital tool, is my personal health information secure?\n",
            "\n",
            "\n",
            "    What will happen to my personal information during contact tracing?\n",
            "\n",
            "\n",
            "    Will I be required to download a contact tracing app for COVID-19 on my phone?\n",
            "\n",
            "\n",
            "    Will there be a national app for contact tracing?\n",
            "\n",
            "\n",
            "    A contact tracer asked for my Social Security Number or other confidential information. Should I share it?\n",
            "\n",
            "\n",
            "    How can I avoid a contact tracing scam?\n",
            "\n",
            "\n",
            "    Do car seats and booster seats need extra cleaning and disinfection to prevent spread of COVID-19?\n",
            "\n",
            "\n",
            "    Am I at risk for COVID-19 from mail, packages, or products?\n",
            "\n",
            "\n",
            "    Can mosquitoes or ticks spread the virus that causes COVID-19?\n",
            "\n",
            "\n",
            "    Can SARS-CoV-2, the virus that causes COVID-19, be transmitted by blood transfusion?\n",
            "\n",
            "\n",
            "    Can I get the coronavirus from food, food packaging, or food containers and preparation area?\n",
            "\n",
            "\n",
            "    Can the virus that causes COVID-19 be spread through food, including restaurant take out, refrigerated or frozen packaged food?\n",
            "\n",
            "\n",
            "    Will warm weather stop the outbreak of COVID-19?\n",
            "\n",
            "\n",
            "    Can the COVID-19 virus spread through sewerage systems?\n",
            "\n",
            "\n",
            "    Can the virus that causes COVID-19 spread to people through flood water?\n",
            "\n",
            "\n",
            "    Can the virus that causes COVID-19 spread through drinking water?\n",
            "\n",
            "\n",
            "    Can the virus that causes COVID-19 spread through pools, hot tubs, spas, and water play areas?\n",
            "\n",
            "\n",
            "    Can the virus that causes COVID-19 spread to people through the water in lakes, oceans, or rivers?\n",
            "\n",
            "\n",
            "    Can the virus that causes COVID-19 spread to people through the water in saltwater pools?\n",
            "\n",
            "\n",
            "    If my utility has issued a Boil Water Advisory, can I still use tap water to wash my hands?\n",
            "\n",
            "\n",
            "    Is the virus that causes COVID-19 found in feces (stool)?\n",
            "\n",
            "\n",
            "    Where can I find additional information about water transmission and COVID-19?\n",
            "\n",
            "\n",
            "    Can I get COVID-19 from my pets or other animals?\n",
            "\n",
            "\n",
            "    Should I avoid contact with pets or other animals if I am sick with COVID-19?\n",
            "\n",
            "\n",
            "    What precautions should be taken for animals that have recently been imported (for example, by shelters, rescue groups, or as personal pets) from China?\n",
            "\n",
            "\n",
            "    Can bats in the United States get the virus that causes COVID-19, and can they spread it back to people?\n",
            "\n",
            "\n",
            "    Can wild animals spread the virus that causes COVID-19 to people or pets?\n",
            "\n",
            "\n",
            "    What should loved ones know about handling belongings and the body of someone who died from COVID-19?\n",
            "\n",
            "\n",
            "    Is 5G cell phone technology linked to the cause of coronavirus?\n",
            "\n",
            "\n",
            "    Can sanitizing tunnels be used at building entrances or exits to prevent the spread of COVID-19?\n",
            "\n",
            "\n",
            "    Should sidewalks and roads be disinfected to prevent COVID-19?\n",
            "\n"
          ],
          "name": "stdout"
        }
      ]
    }
  ]
}